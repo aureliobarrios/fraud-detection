{
 "cells": [
  {
   "cell_type": "markdown",
   "id": "a09edb40",
   "metadata": {},
   "source": [
    "## Fraud Detection Modeling\n",
    "\n",
    "The purpose of this notebook is to build an ensemble classifier that will assess if fraudulent activity has occured in a transaction. The initial steps include creating a Gradient Boosting Classifier in order to establish a baseline. The next steps include hyperparameter searching to find create our best machine learning model reflecting our dataset.\n",
    "\n",
    "### Imports"
   ]
  },
  {
   "cell_type": "code",
   "execution_count": 1,
   "id": "008d4a13",
   "metadata": {},
   "outputs": [],
   "source": [
    "import pandas as pd\n",
    "\n",
    "from sklearn.metrics import f1_score\n",
    "from sklearn.model_selection import train_test_split\n",
    "from sklearn.ensemble import GradientBoostingClassifier\n",
    "from sklearn.model_selection import RandomizedSearchCV"
   ]
  },
  {
   "cell_type": "code",
   "execution_count": 2,
   "id": "54188535",
   "metadata": {},
   "outputs": [
    {
     "data": {
      "text/html": [
       "<div>\n",
       "<style scoped>\n",
       "    .dataframe tbody tr th:only-of-type {\n",
       "        vertical-align: middle;\n",
       "    }\n",
       "\n",
       "    .dataframe tbody tr th {\n",
       "        vertical-align: top;\n",
       "    }\n",
       "\n",
       "    .dataframe thead th {\n",
       "        text-align: right;\n",
       "    }\n",
       "</style>\n",
       "<table border=\"1\" class=\"dataframe\">\n",
       "  <thead>\n",
       "    <tr style=\"text-align: right;\">\n",
       "      <th></th>\n",
       "      <th>CASH_IN</th>\n",
       "      <th>CASH_OUT</th>\n",
       "      <th>DEBIT</th>\n",
       "      <th>PAYMENT</th>\n",
       "      <th>TRANSFER</th>\n",
       "      <th>amount</th>\n",
       "      <th>newbalanceOrig</th>\n",
       "      <th>oldbalanceDest</th>\n",
       "      <th>isFraud</th>\n",
       "    </tr>\n",
       "  </thead>\n",
       "  <tbody>\n",
       "    <tr>\n",
       "      <th>0</th>\n",
       "      <td>0</td>\n",
       "      <td>0</td>\n",
       "      <td>0</td>\n",
       "      <td>1</td>\n",
       "      <td>0</td>\n",
       "      <td>9839.64</td>\n",
       "      <td>160296.36</td>\n",
       "      <td>0.0</td>\n",
       "      <td>0</td>\n",
       "    </tr>\n",
       "    <tr>\n",
       "      <th>1</th>\n",
       "      <td>0</td>\n",
       "      <td>0</td>\n",
       "      <td>0</td>\n",
       "      <td>1</td>\n",
       "      <td>0</td>\n",
       "      <td>1864.28</td>\n",
       "      <td>19384.72</td>\n",
       "      <td>0.0</td>\n",
       "      <td>0</td>\n",
       "    </tr>\n",
       "    <tr>\n",
       "      <th>2</th>\n",
       "      <td>0</td>\n",
       "      <td>0</td>\n",
       "      <td>0</td>\n",
       "      <td>0</td>\n",
       "      <td>1</td>\n",
       "      <td>181.00</td>\n",
       "      <td>0.00</td>\n",
       "      <td>0.0</td>\n",
       "      <td>1</td>\n",
       "    </tr>\n",
       "    <tr>\n",
       "      <th>3</th>\n",
       "      <td>0</td>\n",
       "      <td>1</td>\n",
       "      <td>0</td>\n",
       "      <td>0</td>\n",
       "      <td>0</td>\n",
       "      <td>181.00</td>\n",
       "      <td>0.00</td>\n",
       "      <td>21182.0</td>\n",
       "      <td>1</td>\n",
       "    </tr>\n",
       "    <tr>\n",
       "      <th>4</th>\n",
       "      <td>0</td>\n",
       "      <td>0</td>\n",
       "      <td>0</td>\n",
       "      <td>1</td>\n",
       "      <td>0</td>\n",
       "      <td>11668.14</td>\n",
       "      <td>29885.86</td>\n",
       "      <td>0.0</td>\n",
       "      <td>0</td>\n",
       "    </tr>\n",
       "  </tbody>\n",
       "</table>\n",
       "</div>"
      ],
      "text/plain": [
       "   CASH_IN  CASH_OUT  DEBIT  PAYMENT  TRANSFER    amount  newbalanceOrig  \\\n",
       "0        0         0      0        1         0   9839.64       160296.36   \n",
       "1        0         0      0        1         0   1864.28        19384.72   \n",
       "2        0         0      0        0         1    181.00            0.00   \n",
       "3        0         1      0        0         0    181.00            0.00   \n",
       "4        0         0      0        1         0  11668.14        29885.86   \n",
       "\n",
       "   oldbalanceDest  isFraud  \n",
       "0             0.0        0  \n",
       "1             0.0        0  \n",
       "2             0.0        1  \n",
       "3         21182.0        1  \n",
       "4             0.0        0  "
      ]
     },
     "execution_count": 2,
     "metadata": {},
     "output_type": "execute_result"
    }
   ],
   "source": [
    "#loading our data\n",
    "df = pd.read_csv('../data/fraud.csv')\n",
    "\n",
    "df.head()"
   ]
  },
  {
   "cell_type": "markdown",
   "id": "1bffe9fa",
   "metadata": {},
   "source": [
    "### Data Preparation\n",
    "\n",
    "Here we are simply splitting our features and target variables. Also we split our data into training and testing sets."
   ]
  },
  {
   "cell_type": "code",
   "execution_count": 3,
   "id": "863028ff",
   "metadata": {},
   "outputs": [],
   "source": [
    "#separating features and target\n",
    "X = df.drop('isFraud', axis=1)\n",
    "y = df['isFraud']"
   ]
  },
  {
   "cell_type": "code",
   "execution_count": 4,
   "id": "4684c00f",
   "metadata": {},
   "outputs": [],
   "source": [
    "#splitting our dataset into train and test sets\n",
    "X_train, X_test, y_train, y_test = train_test_split(X, y, test_size=0.2)"
   ]
  },
  {
   "cell_type": "markdown",
   "id": "a368d4fe",
   "metadata": {},
   "source": [
    "### Initial Gradient Boosting Classifier\n",
    "\n",
    "Creating and initial Gradient Boosting Classifier on our training set to establish a baseline. "
   ]
  },
  {
   "cell_type": "code",
   "execution_count": 7,
   "id": "9226780a",
   "metadata": {},
   "outputs": [],
   "source": [
    "#creating a base classifier\n",
    "gbc = GradientBoostingClassifier(n_estimators=10)"
   ]
  },
  {
   "cell_type": "code",
   "execution_count": 8,
   "id": "c27e057b",
   "metadata": {},
   "outputs": [
    {
     "data": {
      "text/plain": [
       "GradientBoostingClassifier(n_estimators=10)"
      ]
     },
     "execution_count": 8,
     "metadata": {},
     "output_type": "execute_result"
    }
   ],
   "source": [
    "#fitting our classifier on our training data\n",
    "gbc.fit(X_train, y_train)"
   ]
  },
  {
   "cell_type": "code",
   "execution_count": 10,
   "id": "27f94d3f",
   "metadata": {},
   "outputs": [],
   "source": [
    "#get train and testing predictions from initial classifier\n",
    "y_train_pred = gbc.predict(X_train)\n",
    "y_test_pred = gbc.predict(X_test)"
   ]
  },
  {
   "cell_type": "code",
   "execution_count": 11,
   "id": "d3319db0",
   "metadata": {},
   "outputs": [
    {
     "name": "stdout",
     "output_type": "stream",
     "text": [
      "f1_score for training set predictions: 0.21777120580723217\n",
      "f1_score for test set predictions: 0.2011111111111111\n"
     ]
    }
   ],
   "source": [
    "#view f1 score for train and testing\n",
    "print(\"f1_score for training set predictions:\", f1_score(y_train, y_train_pred))\n",
    "print(\"f1_score for test set predictions:\", f1_score(y_test, y_test_pred))"
   ]
  },
  {
   "cell_type": "code",
   "execution_count": 13,
   "id": "37a5faf0",
   "metadata": {},
   "outputs": [
    {
     "name": "stdout",
     "output_type": "stream",
     "text": [
      "mean accuracy on given test data: 0.9988699623739906\n"
     ]
    }
   ],
   "source": [
    "#view mean accuracy on given test data and labels\n",
    "print(\"mean accuracy on given test data:\", gbc.score(X_test, y_test))"
   ]
  },
  {
   "cell_type": "markdown",
   "id": "c4761274",
   "metadata": {},
   "source": [
    "### Randomized Search For Hyperparameter Tuning"
   ]
  },
  {
   "cell_type": "code",
   "execution_count": 14,
   "id": "344eed3c",
   "metadata": {},
   "outputs": [],
   "source": [
    "#parameters to test\n",
    "params = {\n",
    "    'learning_rate': [0.1, 0.5, 1.0, 10],\n",
    "}"
   ]
  },
  {
   "cell_type": "code",
   "execution_count": 16,
   "id": "d85a1fc9",
   "metadata": {},
   "outputs": [],
   "source": [
    "#building a new classifier using randomized search\n",
    "clf = RandomizedSearchCV(GradientBoostingClassifier(n_estimators=10), params)"
   ]
  },
  {
   "cell_type": "code",
   "execution_count": null,
   "id": "5fa0ca3d",
   "metadata": {},
   "outputs": [
    {
     "name": "stderr",
     "output_type": "stream",
     "text": [
      "/opt/anaconda3/lib/python3.8/site-packages/sklearn/model_selection/_search.py:285: UserWarning: The total space of parameters 4 is smaller than n_iter=10. Running 4 iterations. For exhaustive searches, use GridSearchCV.\n",
      "  warnings.warn(\n"
     ]
    }
   ],
   "source": [
    "#begin our hyperparameter tuning\n",
    "search = clf.fit(X_train, y_train)"
   ]
  },
  {
   "cell_type": "code",
   "execution_count": null,
   "id": "a9a4fcd0",
   "metadata": {},
   "outputs": [],
   "source": [
    "#get our best parameters\n",
    "search.best_params_"
   ]
  },
  {
   "cell_type": "code",
   "execution_count": null,
   "id": "a643446d",
   "metadata": {},
   "outputs": [],
   "source": [
    "#get predictions from our best parameter model\n",
    "y_hat_train = search.predict(X_train)\n",
    "y_hat_test = search.predict(X_test)"
   ]
  },
  {
   "cell_type": "code",
   "execution_count": null,
   "id": "27790434",
   "metadata": {},
   "outputs": [],
   "source": [
    "#get the f1 scores of our best model\n",
    "print(\"f1_score for training set predictions:\", f1_score(y_train, y_hat_train))\n",
    "print(\"f1_score for test set predictions:\", f1_score(y_test, y_hat_test))"
   ]
  },
  {
   "cell_type": "code",
   "execution_count": null,
   "id": "5592c589",
   "metadata": {},
   "outputs": [],
   "source": []
  }
 ],
 "metadata": {
  "kernelspec": {
   "display_name": "Python 3",
   "language": "python",
   "name": "python3"
  },
  "language_info": {
   "codemirror_mode": {
    "name": "ipython",
    "version": 3
   },
   "file_extension": ".py",
   "mimetype": "text/x-python",
   "name": "python",
   "nbconvert_exporter": "python",
   "pygments_lexer": "ipython3",
   "version": "3.8.5"
  }
 },
 "nbformat": 4,
 "nbformat_minor": 5
}
